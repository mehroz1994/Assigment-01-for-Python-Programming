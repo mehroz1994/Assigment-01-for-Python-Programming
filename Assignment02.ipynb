{
 "cells": [
  {
   "cell_type": "code",
   "execution_count": 9,
   "metadata": {},
   "outputs": [
    {
     "name": "stdout",
     "output_type": "stream",
     "text": [
      "Enter your Blockchain marks 89\n",
      "Enter your Cloud marks 88\n",
      "Enter your Git marks 80\n",
      "Enter your Python marks 95\n",
      "Enter your Iot marks 60\n",
      "Percentage:  82.4\n",
      "Grade A\n"
     ]
    }
   ],
   "source": [
    "block = input(\"Enter your Blockchain marks \")\n",
    "cloud = input(\"Enter your Cloud marks \")\n",
    "git = input(\"Enter your Git marks \")\n",
    "py = input(\"Enter your Python marks \")\n",
    "iot = input(\"Enter your Iot marks \")\n",
    "\n",
    "total = 500;\n",
    "sum = int(block) + int(cloud) + int(git) + int(py) + int(iot) ;\n",
    "\n",
    "per = (sum*100) / total;\n",
    "print(\"Percentage: \", per)\n",
    "\n",
    "if(per >= 90) :\n",
    "    print(\"Grade A+\")\n",
    "elif(per >= 79 and per <= 89):\n",
    "    print(\"Grade A\")\n",
    "elif(per >= 70 and per <= 78):\n",
    "    print(\"Grade B+\")\n",
    "elif(per >= 60 and per <= 69):\n",
    "    print(\"Grade B\")\n",
    "elif(per >= 50 and per <= 59):\n",
    "    print(\"Grade C\")\n",
    "else : \n",
    "    print(\"Fail\")\n"
   ]
  },
  {
   "cell_type": "code",
   "execution_count": 12,
   "metadata": {},
   "outputs": [
    {
     "name": "stdout",
     "output_type": "stream",
     "text": [
      "Enter a number: 3\n",
      "This is an odd number\n"
     ]
    }
   ],
   "source": [
    "num = int(input(\"Enter a number: \"))\n",
    "value = num % 2\n",
    "if value > 0:\n",
    "    print(\"This is an odd number\")\n",
    "else: \n",
    "    print(\"This is an even number\")"
   ]
  },
  {
   "cell_type": "code",
   "execution_count": 14,
   "metadata": {},
   "outputs": [
    {
     "name": "stdout",
     "output_type": "stream",
     "text": [
      "The Length of the list is:  5\n"
     ]
    }
   ],
   "source": [
    "num = len([10, 20, 30, 40, 50])\n",
    "print(\"The Length of the list is: \", num)"
   ]
  },
  {
   "cell_type": "code",
   "execution_count": 2,
   "metadata": {},
   "outputs": [
    {
     "name": "stdout",
     "output_type": "stream",
     "text": [
      "How many numbers do you want to enter: 2\n",
      "Enter number: 30\n",
      "Enter number: 20\n",
      "Sum of the list is:  50\n"
     ]
    }
   ],
   "source": [
    "num = int(input(\"How many numbers do you want to enter: \"))\n",
    "lst = []\n",
    "for n in range (num):\n",
    "    numbers = int(input(\"Enter number: \"))\n",
    "    lst.append(numbers)\n",
    "       \n",
    "print(\"Sum of the list is: \", sum(lst))"
   ]
  },
  {
   "cell_type": "code",
   "execution_count": 1,
   "metadata": {},
   "outputs": [
    {
     "name": "stdout",
     "output_type": "stream",
     "text": [
      "How many numbers do you want to enter: 3\n",
      "Enter number: 2\n",
      "Enter number: 3\n",
      "Enter number: 1\n",
      "Largest element in the list is:  3\n"
     ]
    }
   ],
   "source": [
    "num = int(input(\"How many numbers do you want to enter: \"))\n",
    "lst = []\n",
    "for n in range (num):\n",
    "    numbers = int(input(\"Enter number: \"))\n",
    "    lst.append(numbers)\n",
    "       \n",
    "print(\"Largest element in the list is: \", max(lst))"
   ]
  },
  {
   "cell_type": "code",
   "execution_count": 4,
   "metadata": {},
   "outputs": [
    {
     "name": "stdout",
     "output_type": "stream",
     "text": [
      "[1, 1, 2, 3]\n"
     ]
    }
   ],
   "source": [
    "a = [1,1,2,3,5,8,13,21,34,55,89]\n",
    "\n",
    "new_list = []\n",
    "for item in a:\n",
    "    if item < 5:\n",
    "        \n",
    "        new_list.append(item)\n",
    "\n",
    "print(new_list)"
   ]
  },
  {
   "cell_type": "code",
   "execution_count": null,
   "metadata": {},
   "outputs": [],
   "source": []
  }
 ],
 "metadata": {
  "kernelspec": {
   "display_name": "Python 3",
   "language": "python",
   "name": "python3"
  },
  "language_info": {
   "codemirror_mode": {
    "name": "ipython",
    "version": 3
   },
   "file_extension": ".py",
   "mimetype": "text/x-python",
   "name": "python",
   "nbconvert_exporter": "python",
   "pygments_lexer": "ipython3",
   "version": "3.7.4"
  }
 },
 "nbformat": 4,
 "nbformat_minor": 2
}
